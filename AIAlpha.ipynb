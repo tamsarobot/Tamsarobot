{
  "nbformat": 4,
  "nbformat_minor": 0,
  "metadata": {
    "colab": {
      "name": "AIAlpha.ipynb",
      "provenance": [],
      "collapsed_sections": [],
      "authorship_tag": "ABX9TyNbLeAm6gHyWY9n6pEP7QSq",
      "include_colab_link": true
    },
    "kernelspec": {
      "name": "python3",
      "display_name": "Python 3"
    }
  },
  "cells": [
    {
      "cell_type": "markdown",
      "metadata": {
        "id": "view-in-github",
        "colab_type": "text"
      },
      "source": [
        "<a href=\"https://colab.research.google.com/github/tamsarobot/Tamsarobot/blob/master/AIAlpha.ipynb\" target=\"_parent\"><img src=\"https://colab.research.google.com/assets/colab-badge.svg\" alt=\"Open In Colab\"/></a>"
      ]
    },
    {
      "cell_type": "code",
      "metadata": {
        "id": "TfX9jEH4eEBw",
        "colab_type": "code",
        "colab": {
          "base_uri": "https://localhost:8080/",
          "height": 125
        },
        "outputId": "d116d808-a81b-4a3e-95ae-b66764ea0ea6"
      },
      "source": [
        "from os.path import join\n",
        "from google.colab import drive\n",
        "\n",
        "ROOT = \"/content/gdrive/\"\n",
        "drive.mount(ROOT)\n",
        "path='/project_folder/AIAlpha'"
      ],
      "execution_count": 1,
      "outputs": [
        {
          "output_type": "stream",
          "text": [
            "Go to this URL in a browser: https://accounts.google.com/o/oauth2/auth?client_id=947318989803-6bn6qk8qdgf4n4g3pfee6491hc0brc4i.apps.googleusercontent.com&redirect_uri=urn%3aietf%3awg%3aoauth%3a2.0%3aoob&response_type=code&scope=email%20https%3a%2f%2fwww.googleapis.com%2fauth%2fdocs.test%20https%3a%2f%2fwww.googleapis.com%2fauth%2fdrive%20https%3a%2f%2fwww.googleapis.com%2fauth%2fdrive.photos.readonly%20https%3a%2f%2fwww.googleapis.com%2fauth%2fpeopleapi.readonly\n",
            "\n",
            "Enter your authorization code:\n",
            "··········\n",
            "Mounted at /content/gdrive/\n"
          ],
          "name": "stdout"
        }
      ]
    },
    {
      "cell_type": "code",
      "metadata": {
        "id": "OYyKRDZF76io",
        "colab_type": "code",
        "outputId": "82818453-483b-45fa-d37e-dc3b01e20278",
        "colab": {
          "base_uri": "https://localhost:8080/",
          "height": 125
        }
      },
      "source": [
        "# Run this cell to mount your Google Drive.\n",
        "from google.colab import drive\n",
        "drive.mount('/content/gdrive/')"
      ],
      "execution_count": 1,
      "outputs": [
        {
          "output_type": "stream",
          "text": [
            "Go to this URL in a browser: https://accounts.google.com/o/oauth2/auth?client_id=947318989803-6bn6qk8qdgf4n4g3pfee6491hc0brc4i.apps.googleusercontent.com&redirect_uri=urn%3aietf%3awg%3aoauth%3a2.0%3aoob&response_type=code&scope=email%20https%3a%2f%2fwww.googleapis.com%2fauth%2fdocs.test%20https%3a%2f%2fwww.googleapis.com%2fauth%2fdrive%20https%3a%2f%2fwww.googleapis.com%2fauth%2fdrive.photos.readonly%20https%3a%2f%2fwww.googleapis.com%2fauth%2fpeopleapi.readonly\n",
            "\n",
            "Enter your authorization code:\n",
            "··········\n",
            "Mounted at /content/gdrive/\n"
          ],
          "name": "stdout"
        }
      ]
    },
    {
      "cell_type": "code",
      "metadata": {
        "id": "H1upisCzM2Gq",
        "colab_type": "code",
        "colab": {
          "base_uri": "https://localhost:8080/",
          "height": 34
        },
        "outputId": "809ac17f-85e1-4428-bc5e-2c4caedfcda0"
      },
      "source": [
        "!ls\n"
      ],
      "execution_count": 2,
      "outputs": [
        {
          "output_type": "stream",
          "text": [
            "gdrive\tsample_data\n"
          ],
          "name": "stdout"
        }
      ]
    },
    {
      "cell_type": "code",
      "metadata": {
        "id": "b4QEZQRNO50e",
        "colab_type": "code",
        "colab": {
          "base_uri": "https://localhost:8080/",
          "height": 34
        },
        "outputId": "6b0b0adf-ff47-4225-9baa-76843272143a"
      },
      "source": [
        "#content/gdrive Drive/ 까지는 이미 생성되어 있음-아레코드로 project folder 추가로 만듬\n",
        "%cd gdrive/My Drive"
      ],
      "execution_count": 3,
      "outputs": [
        {
          "output_type": "stream",
          "text": [
            "/content/gdrive/My Drive\n"
          ],
          "name": "stdout"
        }
      ]
    },
    {
      "cell_type": "code",
      "metadata": {
        "id": "BQaxEqmdSst9",
        "colab_type": "code",
        "colab": {
          "base_uri": "https://localhost:8080/",
          "height": 34
        },
        "outputId": "46df9b3d-5773-4ef3-e037-c7987bda8dcc"
      },
      "source": [
        "!mkdir project_folder"
      ],
      "execution_count": 4,
      "outputs": [
        {
          "output_type": "stream",
          "text": [
            "mkdir: cannot create directory ‘project_folder’: File exists\n"
          ],
          "name": "stdout"
        }
      ]
    },
    {
      "cell_type": "code",
      "metadata": {
        "id": "fq7NcvpFS_rg",
        "colab_type": "code",
        "colab": {
          "base_uri": "https://localhost:8080/",
          "height": 52
        },
        "outputId": "b81fc378-e125-4ccb-f1eb-3164991310ce"
      },
      "source": [
        "!ls"
      ],
      "execution_count": 5,
      "outputs": [
        {
          "output_type": "stream",
          "text": [
            "'Colab Notebooks'   Deshpandenu_3.ipynb   project_folder    ZIP\n",
            " Data2\t\t    MarketGAN.ipynb\t  Untitled0.ipynb\n"
          ],
          "name": "stdout"
        }
      ]
    },
    {
      "cell_type": "code",
      "metadata": {
        "id": "rLT7CGFVTKen",
        "colab_type": "code",
        "colab": {
          "base_uri": "https://localhost:8080/",
          "height": 34
        },
        "outputId": "057b0fe5-9a3b-4ff4-bb9b-c9e5d9704169"
      },
      "source": [
        "%cd project_folder/"
      ],
      "execution_count": 6,
      "outputs": [
        {
          "output_type": "stream",
          "text": [
            "/content/gdrive/My Drive/project_folder\n"
          ],
          "name": "stdout"
        }
      ]
    },
    {
      "cell_type": "code",
      "metadata": {
        "id": "BwClolhIfjyh",
        "colab_type": "code",
        "colab": {
          "base_uri": "https://localhost:8080/",
          "height": 34
        },
        "outputId": "2b777b57-895f-44d6-d5e9-12beb25555f8"
      },
      "source": [
        "%cd AIAlpha"
      ],
      "execution_count": 11,
      "outputs": [
        {
          "output_type": "stream",
          "text": [
            "/content/gdrive/My Drive/project_folder/AIAlpha\n"
          ],
          "name": "stdout"
        }
      ]
    },
    {
      "cell_type": "code",
      "metadata": {
        "id": "PVg6yIf3gtns",
        "colab_type": "code",
        "colab": {
          "base_uri": "https://localhost:8080/",
          "height": 87
        },
        "outputId": "e77dc533-b134-4829-eea6-9dd205d5cdf3"
      },
      "source": [
        "!ls"
      ],
      "execution_count": 14,
      "outputs": [
        {
          "output_type": "stream",
          "text": [
            "bar_sample.py\tmodels\t\trequirements.txt  run.py\n",
            "data_processor\tnews_scrubbing\trun2.py\t\t  sample_data\n",
            "__init__.py\tpca_auto.py\trun3.py\t\t  test.py\n",
            "LICENSE\t\tREADME.md\trun_full.py\t  twitter_scrubbing\n"
          ],
          "name": "stdout"
        }
      ]
    },
    {
      "cell_type": "code",
      "metadata": {
        "id": "-CLq6zcpKstN",
        "colab_type": "code",
        "outputId": "06e53fdd-1698-48f6-f9e3-3160b60a0250",
        "colab": {
          "base_uri": "https://localhost:8080/",
          "height": 34
        }
      },
      "source": [
        "!git clone https://github.com/VivekPa/AIAlpha"
      ],
      "execution_count": 7,
      "outputs": [
        {
          "output_type": "stream",
          "text": [
            "fatal: destination path 'AIAlpha' already exists and is not an empty directory.\n"
          ],
          "name": "stdout"
        }
      ]
    },
    {
      "cell_type": "code",
      "metadata": {
        "id": "OPv6bLEITPF5",
        "colab_type": "code",
        "colab": {}
      },
      "source": [
        "import sys\n",
        "sys.path.append('/content/gdrive/My Drive/project_folder/AIALpha')"
      ],
      "execution_count": 0,
      "outputs": []
    },
    {
      "cell_type": "code",
      "metadata": {
        "id": "fcjs6rZJ55nw",
        "colab_type": "code",
        "outputId": "01758b3c-6d49-466f-8b2e-11ee360f5578",
        "colab": {
          "base_uri": "https://localhost:8080/",
          "height": 54
        }
      },
      "source": [
        "import sys\n",
        "print(sys.path)"
      ],
      "execution_count": 9,
      "outputs": [
        {
          "output_type": "stream",
          "text": [
            "['', '/env/python', '/usr/lib/python36.zip', '/usr/lib/python3.6', '/usr/lib/python3.6/lib-dynload', '/usr/local/lib/python3.6/dist-packages', '/usr/lib/python3/dist-packages', '/usr/local/lib/python3.6/dist-packages/IPython/extensions', '/root/.ipython', '/content/gdrive/My Drive/project_folder/AIALpha']\n"
          ],
          "name": "stdout"
        }
      ]
    },
    {
      "cell_type": "code",
      "metadata": {
        "id": "U92W5HJH6lLE",
        "colab_type": "code",
        "outputId": "81f4a746-32f2-4a6b-f3fa-847dcddc0d4f",
        "colab": {
          "base_uri": "https://localhost:8080/",
          "height": 703
        }
      },
      "source": [
        "!python3  \"/content/gdrive/My Drive/project_folder/AIAlpha/run2.py\" "
      ],
      "execution_count": 20,
      "outputs": [
        {
          "output_type": "stream",
          "text": [
            "Using TensorFlow backend.\n",
            "Creating tick bars...\n",
            "Reading data in batches of 20000000\n",
            "Sampling batch 0\n",
            "Creating dollar bars...\n",
            "Reading data in batches of 20000000\n",
            "Sampling batch 0\n",
            "Creating volume bars...\n",
            "Reading data in batches of 20000000\n",
            "Sampling batch 0\n",
            "Processing data...\n",
            "sys:1: DtypeWarning: Columns (2,3,4,5,6) have mixed types. Specify dtype option on import or set low_memory=False.\n",
            "(578135, 6)\n",
            "open\n",
            "Traceback (most recent call last):\n",
            "  File \"/usr/local/lib/python3.6/dist-packages/pandas/core/ops/__init__.py\", line 968, in na_op\n",
            "    result = expressions.evaluate(op, str_rep, x, y, **eval_kwargs)\n",
            "  File \"/usr/local/lib/python3.6/dist-packages/pandas/core/computation/expressions.py\", line 221, in evaluate\n",
            "    return _evaluate(op, op_str, a, b, **eval_kwargs)\n",
            "  File \"/usr/local/lib/python3.6/dist-packages/pandas/core/computation/expressions.py\", line 127, in _evaluate_numexpr\n",
            "    result = _evaluate_standard(op, op_str, a, b)\n",
            "  File \"/usr/local/lib/python3.6/dist-packages/pandas/core/computation/expressions.py\", line 70, in _evaluate_standard\n",
            "    return op(a, b)\n",
            "TypeError: unsupported operand type(s) for /: 'str' and 'float'\n",
            "\n",
            "During handling of the above exception, another exception occurred:\n",
            "\n",
            "Traceback (most recent call last):\n",
            "  File \"/content/gdrive/My Drive/project_folder/AIAlpha/run2.py\", line 27, in <module>\n",
            "    csv_path=\"sample_data/processed_data/autoencoder_data\", save_csv=True)\n",
            "  File \"/content/gdrive/My Drive/project_folder/AIAlpha/data_processor/data_processing.py\", line 18, in make_features\n",
            "    df[f'{i}_ret1'] = np.log(df[i]/df[i].shift(1))\n",
            "  File \"/usr/local/lib/python3.6/dist-packages/pandas/core/ops/__init__.py\", line 1048, in wrapper\n",
            "    result = na_op(lvalues, rvalues)\n",
            "  File \"/usr/local/lib/python3.6/dist-packages/pandas/core/ops/__init__.py\", line 970, in na_op\n",
            "    result = masked_arith_op(x, y, op)\n",
            "  File \"/usr/local/lib/python3.6/dist-packages/pandas/core/ops/__init__.py\", line 447, in masked_arith_op\n",
            "    result[mask] = op(xrav[mask], com.values_from_object(yrav[mask]))\n",
            "TypeError: unsupported operand type(s) for /: 'str' and 'float'\n"
          ],
          "name": "stdout"
        }
      ]
    }
  ]
}